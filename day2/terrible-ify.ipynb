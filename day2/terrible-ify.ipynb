{
 "cells": [
  {
   "cell_type": "code",
   "execution_count": 144,
   "metadata": {},
   "outputs": [
    {
     "name": "stdout",
     "output_type": "stream",
     "text": [
      "Once deleted, variables cannot be recovered. Proceed (y/[n])? y\n"
     ]
    }
   ],
   "source": [
    "%reset\n",
    "\n",
    "import numpy as np\n",
    "import matplotlib.pyplot as pl\n",
    "import matplotlib.patches as mpatches\n",
    "from matplotlib.lines import Line2D\n",
    "\n",
    "import pickle\n",
    "import io\n",
    "import pdb\n",
    "\n",
    "%matplotlib inline"
   ]
  },
  {
   "cell_type": "code",
   "execution_count": 145,
   "metadata": {},
   "outputs": [
    {
     "data": {
      "text/plain": [
       "[<matplotlib.lines.Line2D at 0x7fc400a23b50>]"
      ]
     },
     "execution_count": 145,
     "metadata": {},
     "output_type": "execute_result"
    },
    {
     "data": {
      "image/png": "[encoded data removed]",
      "text/plain": [
       "<Figure size 432x288 with 1 Axes>"
      ]
     },
     "metadata": {
      "needs_background": "light"
     },
     "output_type": "display_data"
    }
   ],
   "source": [
    "xx = np.linspace(0., 10., num = 10)\n",
    "yy = np.linspace(0., 10., num = 10)\n",
    "\n",
    "fig, ax = pl.subplots(1,1)\n",
    "ax.plot(xx, yy)\n",
    "ax.set_xlabel('x')\n",
    "ax.set_ylabel('y')\n",
    "ax.plot([5.],[5.], marker = 's')"
   ]
  },
  {
   "cell_type": "code",
   "execution_count": 168,
   "metadata": {},
   "outputs": [],
   "source": [
    "def terrible_ify(input_fig, verbose = False):\n",
    "    buf = io.BytesIO()\n",
    "    pickle.dump(input_fig, buf)\n",
    "    buf.seek(0)\n",
    "    new_fig = pickle.load(buf) \n",
    "    \n",
    "    ax_list = new_fig.axes\n",
    "    num_axes = len(ax_list)\n",
    "    \n",
    "    for axi in ax_list:\n",
    "        # Mess up axis range\n",
    "        if verbose: print(\"Screwing up axis ranges...\")\n",
    "        xlim = axi.get_xlim()\n",
    "        ylim = axi.get_xlim()        \n",
    "        new_xlim = (np.random.uniform(low=0.1*xlim[0],high=10.*xlim[0]),\\\n",
    "                    np.random.uniform(low=0.1*xlim[1],high=10.*xlim[1]))\n",
    "        new_ylim = (np.random.uniform(low=0.1*ylim[0],high=10.*ylim[0]),\\\n",
    "                    np.random.uniform(low=0.1*ylim[1],high=10.*ylim[1]))\n",
    "        axi.set_xlim(new_xlim)\n",
    "        axi.set_ylim(new_ylim)\n",
    "\n",
    "        # Mess up fonts on axis labels\n",
    "        rand_font = np.random.randint(0,2)\n",
    "        xlabel = axi.get_xlabel()\n",
    "        ylabel = axi.get_ylabel()\n",
    "        if (rand_font == 0):\n",
    "            if verbose: print(\"Making label fonts too small...\")\n",
    "            #Make fonts way too small\n",
    "            axi.set_xlabel(xlabel, fontsize = 7)\n",
    "            axi.set_ylabel(ylabel, fontsize = 7)\n",
    "        if (rand_font == 1):\n",
    "            if verbose: print(\"Making label fonts too large...\")\n",
    "            #Make fonts way too large\n",
    "            axi.set_xlabel(xlabel, fontsize = 30)\n",
    "            axi.set_ylabel(ylabel, fontsize = 30)\n",
    "            \n",
    "        #Mess up fonts on tick labels\n",
    "        if verbose: print(\"Messing up tick labels...\")\n",
    "        axi.tick_params(axis='both', which='major', labelsize=np.random.randint(5,40))\n",
    "        axi.tick_params(axis='both', which='minor', labelsize=np.random.randint(5,40))\n",
    "            \n",
    "        #Turn minor tick labels on or off\n",
    "        rand_minor = np.random.randint(0,2)\n",
    "        if (rand_minor == 1):\n",
    "            axi.minorticks_off()\n",
    "        else:\n",
    "            axi.minorticks_on()\n",
    "            \n",
    "        # Mess up colors\n",
    "        num_lines = len(axi.lines)\n",
    "        if (num_lines > 0):\n",
    "            for li in axi.lines:\n",
    "                li.set_color('brown')        \n",
    "    \n",
    "        #Screw up aspect ratio\n",
    "        rand_aspect = np.random.randint(0,2)\n",
    "        if (rand_aspect == 1):\n",
    "            if verbose: print(\"Messing up aspect ratio...\")\n",
    "            axi.set_aspect(3)\n",
    "            \n",
    "        #Invert x axis\n",
    "        rand_invert = np.random.randint(0,2)\n",
    "        if (rand_invert):\n",
    "            axi.invert_xaxis()\n",
    "            \n",
    "        #Create new terrible legend\n",
    "        if verbose: print(\"Creating a new legend...\")\n",
    "        if (num_lines > 0):\n",
    "            legend_option = np.random.randint(0,3)\n",
    "            if (legend_option == 0):\n",
    "                red_patch = mpatches.Patch(color='red', label='The data')\n",
    "                axi.legend(handles=[red_patch])            \n",
    "            if (legend_option == 1):\n",
    "                lines = [Line2D([0], [0], color='limegreen', lw=4),Line2D([0], [0], color='brown', lw=4)]\n",
    "                axi.legend(lines, ['1'])            \n",
    "            if (legend_option == 2):\n",
    "                lines = [Line2D([0], [0], color='limegreen', lw=4),Line2D([0], [0], color='brown', lw=4),\n",
    "                        Line2D([0], [0], color='black', lw=4),Line2D([0], [0], color='brown', lw=4),\n",
    "                        Line2D([0], [0], color='black', lw=4),Line2D([0], [0], color='brown', lw=4),\n",
    "                        Line2D([0], [0], color='orange', lw=4),Line2D([0], [0], color='brown', lw=4)]\n",
    "                axi.legend(lines, ['d','a','t','a'])\n",
    "    \n",
    "    return new_fig\n",
    "    \n",
    "fig2 = terrible_ify(fig)"
   ]
  },
  {
   "cell_type": "code",
   "execution_count": 169,
   "metadata": {},
   "outputs": [
    {
     "data": {
      "image/png": "[encoded data removed]",
      "text/plain": [
       "<Figure size 432x288 with 1 Axes>"
      ]
     },
     "execution_count": 169,
     "metadata": {},
     "output_type": "execute_result"
    }
   ],
   "source": [
    "fig2\n"
   ]
  },
  {
   "cell_type": "code",
   "execution_count": null,
   "metadata": {},
   "outputs": [],
   "source": []
  }
 ],
 "metadata": {
  "kernelspec": {
   "display_name": "Python 3",
   "language": "python",
   "name": "python3"
  },
  "language_info": {
   "codemirror_mode": {
    "name": "ipython",
    "version": 3
   },
   "file_extension": ".py",
   "mimetype": "text/x-python",
   "name": "python",
   "nbconvert_exporter": "python",
   "pygments_lexer": "ipython3",
   "version": "3.8.3"
  }
 },
 "nbformat": 4,
 "nbformat_minor": 4
}
