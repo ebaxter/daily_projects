{
 "cells": [
  {
   "cell_type": "code",
   "execution_count": 1,
   "metadata": {},
   "outputs": [
    {
     "name": "stdout",
     "output_type": "stream",
     "text": [
      "Once deleted, variables cannot be recovered. Proceed (y/[n])? y\n"
     ]
    }
   ],
   "source": [
    "%reset\n",
    "\n",
    "import matplotlib \n",
    "import pandas as pd\n",
    "import datetime\n",
    "import dateutil.parser\n",
    "import numpy as np\n",
    "import plotly.express as px\n",
    "\n",
    "#import plotly.figure_factory as ff\n",
    "\n",
    "import matplotlib.pyplot as pl\n",
    "\n",
    "import pdb\n",
    "\n",
    "%matplotlib notebook"
   ]
  },
  {
   "cell_type": "code",
   "execution_count": 2,
   "metadata": {},
   "outputs": [],
   "source": [
    "from urllib.request import urlopen\n",
    "import json\n",
    "with urlopen('https://raw.githubusercontent.com/plotly/datasets/master/geojson-counties-fips.json') as response:\n",
    "    counties = json.load(response)"
   ]
  },
  {
   "cell_type": "code",
   "execution_count": 3,
   "metadata": {},
   "outputs": [],
   "source": [
    "files = ['./data/us-counties-2020.txt','./data/us-counties-2021.txt','./data/us-counties-2022.txt']"
   ]
  },
  {
   "cell_type": "code",
   "execution_count": 4,
   "metadata": {},
   "outputs": [
    {
     "data": {
      "text/html": [
       "<div>\n",
       "<style scoped>\n",
       "    .dataframe tbody tr th:only-of-type {\n",
       "        vertical-align: middle;\n",
       "    }\n",
       "\n",
       "    .dataframe tbody tr th {\n",
       "        vertical-align: top;\n",
       "    }\n",
       "\n",
       "    .dataframe thead th {\n",
       "        text-align: right;\n",
       "    }\n",
       "</style>\n",
       "<table border=\"1\" class=\"dataframe\">\n",
       "  <thead>\n",
       "    <tr style=\"text-align: right;\">\n",
       "      <th></th>\n",
       "      <th>date</th>\n",
       "      <th>county</th>\n",
       "      <th>state</th>\n",
       "      <th>fips</th>\n",
       "      <th>cases</th>\n",
       "      <th>deaths</th>\n",
       "    </tr>\n",
       "  </thead>\n",
       "  <tbody>\n",
       "    <tr>\n",
       "      <th>0</th>\n",
       "      <td>2020-01-21</td>\n",
       "      <td>Snohomish</td>\n",
       "      <td>Washington</td>\n",
       "      <td>53061</td>\n",
       "      <td>1</td>\n",
       "      <td>0</td>\n",
       "    </tr>\n",
       "    <tr>\n",
       "      <th>1</th>\n",
       "      <td>2020-01-22</td>\n",
       "      <td>Snohomish</td>\n",
       "      <td>Washington</td>\n",
       "      <td>53061</td>\n",
       "      <td>1</td>\n",
       "      <td>0</td>\n",
       "    </tr>\n",
       "    <tr>\n",
       "      <th>2</th>\n",
       "      <td>2020-01-23</td>\n",
       "      <td>Snohomish</td>\n",
       "      <td>Washington</td>\n",
       "      <td>53061</td>\n",
       "      <td>1</td>\n",
       "      <td>0</td>\n",
       "    </tr>\n",
       "    <tr>\n",
       "      <th>3</th>\n",
       "      <td>2020-01-24</td>\n",
       "      <td>Cook</td>\n",
       "      <td>Illinois</td>\n",
       "      <td>17031</td>\n",
       "      <td>1</td>\n",
       "      <td>0</td>\n",
       "    </tr>\n",
       "    <tr>\n",
       "      <th>4</th>\n",
       "      <td>2020-01-24</td>\n",
       "      <td>Snohomish</td>\n",
       "      <td>Washington</td>\n",
       "      <td>53061</td>\n",
       "      <td>1</td>\n",
       "      <td>0</td>\n",
       "    </tr>\n",
       "  </tbody>\n",
       "</table>\n",
       "</div>"
      ],
      "text/plain": [
       "         date     county       state   fips  cases deaths\n",
       "0  2020-01-21  Snohomish  Washington  53061      1      0\n",
       "1  2020-01-22  Snohomish  Washington  53061      1      0\n",
       "2  2020-01-23  Snohomish  Washington  53061      1      0\n",
       "3  2020-01-24       Cook    Illinois  17031      1      0\n",
       "4  2020-01-24  Snohomish  Washington  53061      1      0"
      ]
     },
     "execution_count": 4,
     "metadata": {},
     "output_type": "execute_result"
    }
   ],
   "source": [
    "frames = []\n",
    "for fi in files:\n",
    "    df = pd.read_csv(fi, dtype={\"fips\":\"string\"}).fillna('-1')\n",
    "    frames.append(df)\n",
    "df = pd.concat(frames)    \n",
    "df.head()"
   ]
  },
  {
   "cell_type": "code",
   "execution_count": 5,
   "metadata": {},
   "outputs": [],
   "source": [
    "#Get days from start date\n",
    "dates = df['date'].tolist()\n",
    "days_from_start = \\\n",
    "    [(dateutil.parser.isoparse(dates[i]) - dateutil.parser.isoparse(dates[0])).days for i in range(len(dates))]\n",
    "days_from_start = np.array(days_from_start)"
   ]
  },
  {
   "cell_type": "code",
   "execution_count": 6,
   "metadata": {},
   "outputs": [],
   "source": [
    "#Convert data to numpy arrays\n",
    "values = np.array(df['cases'].tolist())\n",
    "fips = np.array(df['fips'].tolist())\n",
    "#FIPS values for every county\n",
    "county_fips = np.unique(fips)"
   ]
  },
  {
   "cell_type": "code",
   "execution_count": 7,
   "metadata": {},
   "outputs": [
    {
     "name": "stdout",
     "output_type": "stream",
     "text": [
      "day = 0\n"
     ]
    },
    {
     "name": "stderr",
     "output_type": "stream",
     "text": [
      "<ipython-input-7-2b11480d626c>:18: RuntimeWarning: divide by zero encountered in log10\n",
      "  fig = px.choropleth({'fips':county_fips, 'values': np.log10(county_delta)}, \\\n",
      "<ipython-input-7-2b11480d626c>:18: RuntimeWarning:\n",
      "\n",
      "divide by zero encountered in log10\n",
      "\n"
     ]
    },
    {
     "name": "stdout",
     "output_type": "stream",
     "text": [
      "day = 20\n",
      "day = 40\n"
     ]
    },
    {
     "name": "stderr",
     "output_type": "stream",
     "text": [
      "<ipython-input-7-2b11480d626c>:18: RuntimeWarning:\n",
      "\n",
      "invalid value encountered in log10\n",
      "\n"
     ]
    },
    {
     "name": "stdout",
     "output_type": "stream",
     "text": [
      "day = 60\n",
      "day = 80\n",
      "day = 100\n",
      "day = 120\n",
      "day = 140\n",
      "day = 160\n",
      "day = 180\n"
     ]
    }
   ],
   "source": [
    "num_days = 200\n",
    "\n",
    "county_total = np.zeros(len(county_fips))\n",
    "county_delta = np.zeros(len(county_fips))\n",
    "\n",
    "for dayi in range(0,num_days):\n",
    "    if (dayi % 20 == 0):\n",
    "        print(\"day = {}\".format(dayi))\n",
    "    day_match = np.where(days_from_start == dayi)[0]\n",
    "    this_day_vals = values[day_match]\n",
    "    this_day_fips = fips[day_match]\n",
    "    \n",
    "    county_indices = np.searchsorted(county_fips, this_day_fips)\n",
    "    county_delta[county_indices] = this_day_vals - county_total[county_indices]\n",
    "    county_total[county_indices] = this_day_vals\n",
    "        \n",
    "    #make plot\n",
    "    fig = px.choropleth({'fips':county_fips, 'values': np.log10(county_delta)}, \\\n",
    "                            geojson=counties, locations='fips', color='values',\n",
    "                           color_continuous_scale=\"Viridis\", labels = {'values':'Log10(Cases)'},\n",
    "                           range_color=(0.0, 4),\n",
    "                           scope=\"usa\",\n",
    "                          title = 'Days since Jan. 21, 2020: {}'.format(dayi)\n",
    "                          )\n",
    "    fig.update_layout(coloraxis_colorbar_x=0.)\n",
    "    fig.write_image('./plots/all_counties_delta_log10_{}.png'.format(dayi))    "
   ]
  },
  {
   "cell_type": "code",
   "execution_count": 8,
   "metadata": {},
   "outputs": [],
   "source": [
    "num_days_for_gif = 200\n",
    "filenames = []\n",
    "for i in range(0,num_days_for_gif):\n",
    "    filenames.append('./plots/all_counties_delta_log10_{}.png'.format(i))\n",
    "import imageio\n",
    "images = []\n",
    "for filename in filenames:\n",
    "    images.append(imageio.imread(filename))\n",
    "imageio.mimsave('./plots/covid_cases.gif', images)"
   ]
  },
  {
   "cell_type": "code",
   "execution_count": null,
   "metadata": {},
   "outputs": [],
   "source": []
  },
  {
   "cell_type": "markdown",
   "metadata": {},
   "source": [
    "<img src=\"./plots/covid_cases.gif?1\" width=\"750\" align=\"center\">\n"
   ]
  },
  {
   "cell_type": "code",
   "execution_count": null,
   "metadata": {},
   "outputs": [],
   "source": [
    " "
   ]
  }
 ],
 "metadata": {
  "kernelspec": {
   "display_name": "Python 3",
   "language": "python",
   "name": "python3"
  },
  "language_info": {
   "codemirror_mode": {
    "name": "ipython",
    "version": 3
   },
   "file_extension": ".py",
   "mimetype": "text/x-python",
   "name": "python",
   "nbconvert_exporter": "python",
   "pygments_lexer": "ipython3",
   "version": "3.8.3"
  }
 },
 "nbformat": 4,
 "nbformat_minor": 2
}
